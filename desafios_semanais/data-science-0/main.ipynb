{
 "cells": [
  {
   "cell_type": "markdown",
   "metadata": {},
   "source": [
    "# Desafio 1\n",
    "\n",
    "Para esse desafio, vamos trabalhar com o data set [Black Friday](https://www.kaggle.com/mehdidag/black-friday), que reúne dados sobre transações de compras em uma loja de varejo.\n",
    "\n",
    "Vamos utilizá-lo para praticar a exploração de data sets utilizando pandas. Você pode fazer toda análise neste mesmo notebook, mas as resposta devem estar nos locais indicados.\n",
    "\n",
    "> Obs.: Por favor, não modifique o nome das funções de resposta."
   ]
  },
  {
   "cell_type": "markdown",
   "metadata": {},
   "source": [
    "## _Set up_ da análise"
   ]
  },
  {
   "cell_type": "code",
   "execution_count": 2,
   "metadata": {},
   "outputs": [],
   "source": [
    "import pandas as pd\n",
    "import numpy as np"
   ]
  },
  {
   "cell_type": "code",
   "execution_count": 3,
   "metadata": {},
   "outputs": [],
   "source": [
    "black_friday = pd.read_csv(\"black_friday.csv\")"
   ]
  },
  {
   "cell_type": "markdown",
   "metadata": {},
   "source": [
    "## Inicie sua análise a partir daqui"
   ]
  },
  {
   "cell_type": "code",
   "execution_count": null,
   "metadata": {},
   "outputs": [],
   "source": [
    "black_friday.info()"
   ]
  },
  {
   "cell_type": "code",
   "execution_count": null,
   "metadata": {},
   "outputs": [],
   "source": [
    "black_friday.describe()"
   ]
  },
  {
   "cell_type": "code",
   "execution_count": 88,
   "metadata": {},
   "outputs": [
    {
     "output_type": "execute_result",
     "data": {
      "text/plain": "    User_ID Product_ID Gender    Age  Occupation City_Category  \\\n0   1000001  P00069042      F   0-17          10             A   \n1   1000001  P00248942      F   0-17          10             A   \n2   1000001  P00087842      F   0-17          10             A   \n3   1000001  P00085442      F   0-17          10             A   \n4   1000002  P00285442      M    55+          16             C   \n5   1000003  P00193542      M  26-35          15             A   \n6   1000004  P00184942      M  46-50           7             B   \n7   1000004  P00346142      M  46-50           7             B   \n8   1000004   P0097242      M  46-50           7             B   \n9   1000005  P00274942      M  26-35          20             A   \n10  1000005  P00251242      M  26-35          20             A   \n11  1000005  P00014542      M  26-35          20             A   \n12  1000005  P00031342      M  26-35          20             A   \n13  1000005  P00145042      M  26-35          20             A   \n14  1000006  P00231342      F  51-55           9             A   \n15  1000006  P00190242      F  51-55           9             A   \n16  1000006   P0096642      F  51-55           9             A   \n17  1000006  P00058442      F  51-55           9             A   \n18  1000007  P00036842      M  36-45           1             B   \n19  1000008  P00249542      M  26-35          12             C   \n\n   Stay_In_Current_City_Years  Marital_Status  Product_Category_1  \\\n0                           2               0                   3   \n1                           2               0                   1   \n2                           2               0                  12   \n3                           2               0                  12   \n4                          4+               0                   8   \n5                           3               0                   1   \n6                           2               1                   1   \n7                           2               1                   1   \n8                           2               1                   1   \n9                           1               1                   8   \n10                          1               1                   5   \n11                          1               1                   8   \n12                          1               1                   8   \n13                          1               1                   1   \n14                          1               0                   5   \n15                          1               0                   4   \n16                          1               0                   2   \n17                          1               0                   5   \n18                          1               1                   1   \n19                         4+               1                   1   \n\n    Product_Category_2  Product_Category_3  Purchase  \n0                  NaN                 NaN      8370  \n1                  6.0                14.0     15200  \n2                  NaN                 NaN      1422  \n3                 14.0                 NaN      1057  \n4                  NaN                 NaN      7969  \n5                  2.0                 NaN     15227  \n6                  8.0                17.0     19215  \n7                 15.0                 NaN     15854  \n8                 16.0                 NaN     15686  \n9                  NaN                 NaN      7871  \n10                11.0                 NaN      5254  \n11                 NaN                 NaN      3957  \n12                 NaN                 NaN      6073  \n13                 2.0                 5.0     15665  \n14                 8.0                14.0      5378  \n15                 5.0                 NaN      2079  \n16                 3.0                 4.0     13055  \n17                14.0                 NaN      8851  \n18                14.0                16.0     11788  \n19                 5.0                15.0     19614  ",
      "text/html": "<div>\n<style scoped>\n    .dataframe tbody tr th:only-of-type {\n        vertical-align: middle;\n    }\n\n    .dataframe tbody tr th {\n        vertical-align: top;\n    }\n\n    .dataframe thead th {\n        text-align: right;\n    }\n</style>\n<table border=\"1\" class=\"dataframe\">\n  <thead>\n    <tr style=\"text-align: right;\">\n      <th></th>\n      <th>User_ID</th>\n      <th>Product_ID</th>\n      <th>Gender</th>\n      <th>Age</th>\n      <th>Occupation</th>\n      <th>City_Category</th>\n      <th>Stay_In_Current_City_Years</th>\n      <th>Marital_Status</th>\n      <th>Product_Category_1</th>\n      <th>Product_Category_2</th>\n      <th>Product_Category_3</th>\n      <th>Purchase</th>\n    </tr>\n  </thead>\n  <tbody>\n    <tr>\n      <th>0</th>\n      <td>1000001</td>\n      <td>P00069042</td>\n      <td>F</td>\n      <td>0-17</td>\n      <td>10</td>\n      <td>A</td>\n      <td>2</td>\n      <td>0</td>\n      <td>3</td>\n      <td>NaN</td>\n      <td>NaN</td>\n      <td>8370</td>\n    </tr>\n    <tr>\n      <th>1</th>\n      <td>1000001</td>\n      <td>P00248942</td>\n      <td>F</td>\n      <td>0-17</td>\n      <td>10</td>\n      <td>A</td>\n      <td>2</td>\n      <td>0</td>\n      <td>1</td>\n      <td>6.0</td>\n      <td>14.0</td>\n      <td>15200</td>\n    </tr>\n    <tr>\n      <th>2</th>\n      <td>1000001</td>\n      <td>P00087842</td>\n      <td>F</td>\n      <td>0-17</td>\n      <td>10</td>\n      <td>A</td>\n      <td>2</td>\n      <td>0</td>\n      <td>12</td>\n      <td>NaN</td>\n      <td>NaN</td>\n      <td>1422</td>\n    </tr>\n    <tr>\n      <th>3</th>\n      <td>1000001</td>\n      <td>P00085442</td>\n      <td>F</td>\n      <td>0-17</td>\n      <td>10</td>\n      <td>A</td>\n      <td>2</td>\n      <td>0</td>\n      <td>12</td>\n      <td>14.0</td>\n      <td>NaN</td>\n      <td>1057</td>\n    </tr>\n    <tr>\n      <th>4</th>\n      <td>1000002</td>\n      <td>P00285442</td>\n      <td>M</td>\n      <td>55+</td>\n      <td>16</td>\n      <td>C</td>\n      <td>4+</td>\n      <td>0</td>\n      <td>8</td>\n      <td>NaN</td>\n      <td>NaN</td>\n      <td>7969</td>\n    </tr>\n    <tr>\n      <th>5</th>\n      <td>1000003</td>\n      <td>P00193542</td>\n      <td>M</td>\n      <td>26-35</td>\n      <td>15</td>\n      <td>A</td>\n      <td>3</td>\n      <td>0</td>\n      <td>1</td>\n      <td>2.0</td>\n      <td>NaN</td>\n      <td>15227</td>\n    </tr>\n    <tr>\n      <th>6</th>\n      <td>1000004</td>\n      <td>P00184942</td>\n      <td>M</td>\n      <td>46-50</td>\n      <td>7</td>\n      <td>B</td>\n      <td>2</td>\n      <td>1</td>\n      <td>1</td>\n      <td>8.0</td>\n      <td>17.0</td>\n      <td>19215</td>\n    </tr>\n    <tr>\n      <th>7</th>\n      <td>1000004</td>\n      <td>P00346142</td>\n      <td>M</td>\n      <td>46-50</td>\n      <td>7</td>\n      <td>B</td>\n      <td>2</td>\n      <td>1</td>\n      <td>1</td>\n      <td>15.0</td>\n      <td>NaN</td>\n      <td>15854</td>\n    </tr>\n    <tr>\n      <th>8</th>\n      <td>1000004</td>\n      <td>P0097242</td>\n      <td>M</td>\n      <td>46-50</td>\n      <td>7</td>\n      <td>B</td>\n      <td>2</td>\n      <td>1</td>\n      <td>1</td>\n      <td>16.0</td>\n      <td>NaN</td>\n      <td>15686</td>\n    </tr>\n    <tr>\n      <th>9</th>\n      <td>1000005</td>\n      <td>P00274942</td>\n      <td>M</td>\n      <td>26-35</td>\n      <td>20</td>\n      <td>A</td>\n      <td>1</td>\n      <td>1</td>\n      <td>8</td>\n      <td>NaN</td>\n      <td>NaN</td>\n      <td>7871</td>\n    </tr>\n    <tr>\n      <th>10</th>\n      <td>1000005</td>\n      <td>P00251242</td>\n      <td>M</td>\n      <td>26-35</td>\n      <td>20</td>\n      <td>A</td>\n      <td>1</td>\n      <td>1</td>\n      <td>5</td>\n      <td>11.0</td>\n      <td>NaN</td>\n      <td>5254</td>\n    </tr>\n    <tr>\n      <th>11</th>\n      <td>1000005</td>\n      <td>P00014542</td>\n      <td>M</td>\n      <td>26-35</td>\n      <td>20</td>\n      <td>A</td>\n      <td>1</td>\n      <td>1</td>\n      <td>8</td>\n      <td>NaN</td>\n      <td>NaN</td>\n      <td>3957</td>\n    </tr>\n    <tr>\n      <th>12</th>\n      <td>1000005</td>\n      <td>P00031342</td>\n      <td>M</td>\n      <td>26-35</td>\n      <td>20</td>\n      <td>A</td>\n      <td>1</td>\n      <td>1</td>\n      <td>8</td>\n      <td>NaN</td>\n      <td>NaN</td>\n      <td>6073</td>\n    </tr>\n    <tr>\n      <th>13</th>\n      <td>1000005</td>\n      <td>P00145042</td>\n      <td>M</td>\n      <td>26-35</td>\n      <td>20</td>\n      <td>A</td>\n      <td>1</td>\n      <td>1</td>\n      <td>1</td>\n      <td>2.0</td>\n      <td>5.0</td>\n      <td>15665</td>\n    </tr>\n    <tr>\n      <th>14</th>\n      <td>1000006</td>\n      <td>P00231342</td>\n      <td>F</td>\n      <td>51-55</td>\n      <td>9</td>\n      <td>A</td>\n      <td>1</td>\n      <td>0</td>\n      <td>5</td>\n      <td>8.0</td>\n      <td>14.0</td>\n      <td>5378</td>\n    </tr>\n    <tr>\n      <th>15</th>\n      <td>1000006</td>\n      <td>P00190242</td>\n      <td>F</td>\n      <td>51-55</td>\n      <td>9</td>\n      <td>A</td>\n      <td>1</td>\n      <td>0</td>\n      <td>4</td>\n      <td>5.0</td>\n      <td>NaN</td>\n      <td>2079</td>\n    </tr>\n    <tr>\n      <th>16</th>\n      <td>1000006</td>\n      <td>P0096642</td>\n      <td>F</td>\n      <td>51-55</td>\n      <td>9</td>\n      <td>A</td>\n      <td>1</td>\n      <td>0</td>\n      <td>2</td>\n      <td>3.0</td>\n      <td>4.0</td>\n      <td>13055</td>\n    </tr>\n    <tr>\n      <th>17</th>\n      <td>1000006</td>\n      <td>P00058442</td>\n      <td>F</td>\n      <td>51-55</td>\n      <td>9</td>\n      <td>A</td>\n      <td>1</td>\n      <td>0</td>\n      <td>5</td>\n      <td>14.0</td>\n      <td>NaN</td>\n      <td>8851</td>\n    </tr>\n    <tr>\n      <th>18</th>\n      <td>1000007</td>\n      <td>P00036842</td>\n      <td>M</td>\n      <td>36-45</td>\n      <td>1</td>\n      <td>B</td>\n      <td>1</td>\n      <td>1</td>\n      <td>1</td>\n      <td>14.0</td>\n      <td>16.0</td>\n      <td>11788</td>\n    </tr>\n    <tr>\n      <th>19</th>\n      <td>1000008</td>\n      <td>P00249542</td>\n      <td>M</td>\n      <td>26-35</td>\n      <td>12</td>\n      <td>C</td>\n      <td>4+</td>\n      <td>1</td>\n      <td>1</td>\n      <td>5.0</td>\n      <td>15.0</td>\n      <td>19614</td>\n    </tr>\n  </tbody>\n</table>\n</div>"
     },
     "metadata": {},
     "execution_count": 88
    }
   ],
   "source": [
    "black_friday.head(20)"
   ]
  },
  {
   "cell_type": "markdown",
   "metadata": {},
   "source": [
    "## Questão 1\n",
    "\n",
    "Quantas observações e quantas colunas há no dataset? Responda no formato de uma tuple `(n_observacoes, n_colunas)`."
   ]
  },
  {
   "cell_type": "code",
   "execution_count": null,
   "metadata": {},
   "outputs": [],
   "source": [
    "def q1():\n",
    "    return black_friday.shape"
   ]
  },
  {
   "cell_type": "markdown",
   "metadata": {},
   "source": [
    "## Questão 2\n",
    "\n",
    "Há quantas mulheres com idade entre 26 e 35 anos no dataset? Responda como um único escalar."
   ]
  },
  {
   "cell_type": "code",
   "execution_count": 5,
   "metadata": {},
   "outputs": [
    {
     "output_type": "execute_result",
     "data": {
      "text/plain": "49348"
     },
     "metadata": {},
     "execution_count": 5
    }
   ],
   "source": [
    "def q2():\n",
    "    return int(((black_friday['Age'] == '26-35') & (black_friday['Gender'] == 'F')).sum())"
   ]
  },
  {
   "cell_type": "markdown",
   "metadata": {},
   "source": [
    "## Questão 3\n",
    "\n",
    "Quantos usuários únicos há no dataset? Responda como um único escalar."
   ]
  },
  {
   "cell_type": "code",
   "execution_count": null,
   "metadata": {},
   "outputs": [],
   "source": [
    "def q3():\n",
    "    return black_friday['User_ID'].nunique()"
   ]
  },
  {
   "cell_type": "markdown",
   "metadata": {},
   "source": [
    "## Questão 4\n",
    "\n",
    "Quantos tipos de dados diferentes existem no dataset? Responda como um único escalar."
   ]
  },
  {
   "cell_type": "code",
   "execution_count": 30,
   "metadata": {},
   "outputs": [
    {
     "output_type": "execute_result",
     "data": {
      "text/plain": "3"
     },
     "metadata": {},
     "execution_count": 30
    }
   ],
   "source": [
    "def q4():\n",
    "    return int(black_friday.dtypes.value_counts().count())"
   ]
  },
  {
   "cell_type": "markdown",
   "metadata": {},
   "source": [
    "## Questão 5\n",
    "\n",
    "Qual porcentagem dos registros possui ao menos um valor null (`None`, `ǸaN` etc)? Responda como um único escalar entre 0 e 1."
   ]
  },
  {
   "cell_type": "code",
   "execution_count": 29,
   "metadata": {},
   "outputs": [
    {
     "output_type": "execute_result",
     "data": {
      "text/plain": "0.6944102891306734"
     },
     "metadata": {},
     "execution_count": 29
    }
   ],
   "source": [
    "def q5():\n",
    "    return float(black_friday.isnull().any(axis=1).sum() / black_friday.shape[0])"
   ]
  },
  {
   "cell_type": "markdown",
   "metadata": {},
   "source": [
    "## Questão 6\n",
    "\n",
    "Quantos valores null existem na variável (coluna) com o maior número de null? Responda como um único escalar."
   ]
  },
  {
   "cell_type": "code",
   "execution_count": 28,
   "metadata": {},
   "outputs": [
    {
     "output_type": "execute_result",
     "data": {
      "text/plain": "373299"
     },
     "metadata": {},
     "execution_count": 28
    }
   ],
   "source": [
    "def q6():\n",
    "    return int(black_friday.isna().sum().max())"
   ]
  },
  {
   "cell_type": "markdown",
   "metadata": {},
   "source": [
    "## Questão 7\n",
    "\n",
    "Qual o valor mais frequente (sem contar nulls) em `Product_Category_3`? Responda como um único escalar."
   ]
  },
  {
   "cell_type": "code",
   "execution_count": 31,
   "metadata": {},
   "outputs": [
    {
     "output_type": "execute_result",
     "data": {
      "text/plain": "16.0"
     },
     "metadata": {},
     "execution_count": 31
    }
   ],
   "source": [
    "def q7():\n",
    "    return black_friday['Product_Category_3'].mode().loc[0]"
   ]
  },
  {
   "cell_type": "markdown",
   "metadata": {},
   "source": [
    "## Questão 8\n",
    "\n",
    "Qual a nova média da variável (coluna) `Purchase` após sua normalização? Responda como um único escalar."
   ]
  },
  {
   "cell_type": "code",
   "execution_count": 25,
   "metadata": {},
   "outputs": [
    {
     "output_type": "execute_result",
     "data": {
      "text/plain": "0.3847939036269795"
     },
     "metadata": {},
     "execution_count": 25
    }
   ],
   "source": [
    "def q8():\n",
    "    normalized_df = (black_friday['Purchase'] - black_friday['Purchase'].min()) \\\n",
    "                                / (black_friday['Purchase'].max() - black_friday['Purchase'].min())\n",
    "    return float(normalized_df.mean()) "
   ]
  },
  {
   "cell_type": "markdown",
   "metadata": {},
   "source": [
    "## Questão 9\n",
    "\n",
    "Quantas ocorrências entre -1 e 1 inclusive existem da variáel `Purchase` após sua padronização? Responda como um único escalar."
   ]
  },
  {
   "cell_type": "code",
   "execution_count": 26,
   "metadata": {},
   "outputs": [
    {
     "output_type": "execute_result",
     "data": {
      "text/plain": "348631"
     },
     "metadata": {},
     "execution_count": 26
    }
   ],
   "source": [
    "def q9():\n",
    "    aux_df = (black_friday['Purchase'] - black_friday['Purchase'].mean()) / black_friday['Purchase'].std()\n",
    "    return int(((aux_df >= -1) & (aux_df <= 1)).sum())"
   ]
  },
  {
   "cell_type": "markdown",
   "metadata": {},
   "source": [
    "## Questão 10\n",
    "\n",
    "Podemos afirmar que se uma observação é null em `Product_Category_2` ela também o é em `Product_Category_3`? Responda com um bool (`True`, `False`)."
   ]
  },
  {
   "cell_type": "code",
   "execution_count": 9,
   "metadata": {},
   "outputs": [],
   "source": [
    "def q10():\n",
    "    return True if black_friday[(black_friday['Product_Category_2'].isna())\n",
    "        & (black_friday['Product_Category_3'].isna())].shape[0] \\\n",
    "        == black_friday[(black_friday['Product_Category_2'].isna())].shape[0] else False"
   ]
  },
  {
   "cell_type": "code",
   "execution_count": 11,
   "metadata": {},
   "outputs": [
    {
     "output_type": "execute_result",
     "data": {
      "text/plain": "(537577,)"
     },
     "metadata": {},
     "execution_count": 11
    }
   ],
   "source": []
  },
  {
   "cell_type": "code",
   "execution_count": 10,
   "metadata": {},
   "outputs": [
    {
     "output_type": "execute_result",
     "data": {
      "text/plain": "True"
     },
     "metadata": {},
     "execution_count": 10
    }
   ],
   "source": []
  },
  {
   "cell_type": "code",
   "execution_count": null,
   "metadata": {},
   "outputs": [],
   "source": []
  }
 ],
 "metadata": {
  "kernelspec": {
   "display_name": "Python 3.8.2 64-bit",
   "language": "python",
   "name": "python38264bit685dcceb24c04a029223ca590dc18e1d"
  },
  "language_info": {
   "codemirror_mode": {
    "name": "ipython",
    "version": 3
   },
   "file_extension": ".py",
   "mimetype": "text/x-python",
   "name": "python",
   "nbconvert_exporter": "python",
   "pygments_lexer": "ipython3",
   "version": "3.8.2-final"
  }
 },
 "nbformat": 4,
 "nbformat_minor": 2
}